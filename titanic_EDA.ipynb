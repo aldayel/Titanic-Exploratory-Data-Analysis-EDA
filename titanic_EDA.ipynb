{
 "cells": [
  {
   "cell_type": "code",
   "execution_count": 1,
   "id": "bdcc4e75",
   "metadata": {
    "_cell_guid": "b1076dfc-b9ad-4769-8c92-a6c4dae69d19",
    "_uuid": "8f2839f25d086af736a60e9eeb907d3b93b6e0e5",
    "execution": {
     "iopub.execute_input": "2023-12-03T15:13:57.173578Z",
     "iopub.status.busy": "2023-12-03T15:13:57.173035Z",
     "iopub.status.idle": "2023-12-03T15:13:57.189790Z",
     "shell.execute_reply": "2023-12-03T15:13:57.187821Z"
    },
    "papermill": {
     "duration": 0.040136,
     "end_time": "2023-12-03T15:13:57.192517",
     "exception": false,
     "start_time": "2023-12-03T15:13:57.152381",
     "status": "completed"
    },
    "tags": []
   },
   "outputs": [
    {
     "name": "stdout",
     "output_type": "stream",
     "text": [
      "/kaggle/input/titanic/train.csv\n",
      "/kaggle/input/titanic/test.csv\n",
      "/kaggle/input/titanic/gender_submission.csv\n"
     ]
    }
   ],
   "source": [
    "import os\n",
    "for dirname, _, filenames in os.walk('/kaggle/input'):\n",
    "    for filename in filenames:\n",
    "        print(os.path.join(dirname, filename))"
   ]
  },
  {
   "cell_type": "markdown",
   "id": "e3247e19",
   "metadata": {
    "papermill": {
     "duration": 0.018474,
     "end_time": "2023-12-03T15:13:57.231795",
     "exception": false,
     "start_time": "2023-12-03T15:13:57.213321",
     "status": "completed"
    },
    "tags": []
   },
   "source": [
    "# Libraries"
   ]
  },
  {
   "cell_type": "code",
   "execution_count": 2,
   "id": "e37abc01",
   "metadata": {
    "execution": {
     "iopub.execute_input": "2023-12-03T15:13:57.271788Z",
     "iopub.status.busy": "2023-12-03T15:13:57.271340Z",
     "iopub.status.idle": "2023-12-03T15:14:00.425480Z",
     "shell.execute_reply": "2023-12-03T15:14:00.423836Z"
    },
    "papermill": {
     "duration": 3.178515,
     "end_time": "2023-12-03T15:14:00.428894",
     "exception": false,
     "start_time": "2023-12-03T15:13:57.250379",
     "status": "completed"
    },
    "tags": []
   },
   "outputs": [],
   "source": [
    "import pandas as pd\n",
    "import numpy as np\n",
    "import re\n",
    "from collections import Counter\n",
    "import matplotlib.pyplot as plt\n",
    "import seaborn as sns\n",
    "from sklearn.model_selection import RandomizedSearchCV, train_test_split, cross_val_score\n",
    "from sklearn.svm import SVC\n",
    "from sklearn.datasets import make_classification\n",
    "from sklearn.metrics import accuracy_score\n",
    "from sklearn.linear_model import LogisticRegression\n",
    "from sklearn.neighbors import KNeighborsClassifier\n",
    "from sklearn.tree import DecisionTreeClassifier\n",
    "from sklearn.ensemble import RandomForestClassifier, GradientBoostingClassifier, AdaBoostClassifier\n",
    "from sklearn.naive_bayes import GaussianNB\n",
    "from sklearn.base import BaseEstimator, TransformerMixin\n",
    "from sklearn.pipeline import Pipeline\n",
    "from sklearn.compose import ColumnTransformer\n",
    "from sklearn.preprocessing import OneHotEncoder, StandardScaler\n"
   ]
  },
  {
   "cell_type": "markdown",
   "id": "e2cad3e2",
   "metadata": {
    "papermill": {
     "duration": 0.019755,
     "end_time": "2023-12-03T15:14:00.467404",
     "exception": false,
     "start_time": "2023-12-03T15:14:00.447649",
     "status": "completed"
    },
    "tags": []
   },
   "source": [
    "# Exploration"
   ]
  },
  {
   "cell_type": "code",
   "execution_count": 3,
   "id": "50af41ec",
   "metadata": {
    "execution": {
     "iopub.execute_input": "2023-12-03T15:14:00.506581Z",
     "iopub.status.busy": "2023-12-03T15:14:00.505836Z",
     "iopub.status.idle": "2023-12-03T15:14:00.545325Z",
     "shell.execute_reply": "2023-12-03T15:14:00.543514Z"
    },
    "papermill": {
     "duration": 0.062584,
     "end_time": "2023-12-03T15:14:00.548501",
     "exception": false,
     "start_time": "2023-12-03T15:14:00.485917",
     "status": "completed"
    },
    "tags": []
   },
   "outputs": [],
   "source": [
    "# read the dataset\n",
    "train = pd.read_csv(\"/kaggle/input/titanic/train.csv\")\n",
    "test = pd.read_csv('/kaggle/input/titanic/test.csv')\n",
    "\n",
    "train_copy = train.copy()\n",
    "test_copy = test.copy()"
   ]
  },
  {
   "cell_type": "code",
   "execution_count": 4,
   "id": "04d6b757",
   "metadata": {
    "execution": {
     "iopub.execute_input": "2023-12-03T15:14:00.588167Z",
     "iopub.status.busy": "2023-12-03T15:14:00.587669Z",
     "iopub.status.idle": "2023-12-03T15:14:00.628805Z",
     "shell.execute_reply": "2023-12-03T15:14:00.627662Z"
    },
    "papermill": {
     "duration": 0.065422,
     "end_time": "2023-12-03T15:14:00.632561",
     "exception": false,
     "start_time": "2023-12-03T15:14:00.567139",
     "status": "completed"
    },
    "tags": []
   },
   "outputs": [
    {
     "name": "stdout",
     "output_type": "stream",
     "text": [
      "<class 'pandas.core.frame.DataFrame'>\n",
      "RangeIndex: 891 entries, 0 to 890\n",
      "Data columns (total 12 columns):\n",
      " #   Column       Non-Null Count  Dtype  \n",
      "---  ------       --------------  -----  \n",
      " 0   PassengerId  891 non-null    int64  \n",
      " 1   Survived     891 non-null    int64  \n",
      " 2   Pclass       891 non-null    int64  \n",
      " 3   Name         891 non-null    object \n",
      " 4   Sex          891 non-null    object \n",
      " 5   Age          714 non-null    float64\n",
      " 6   SibSp        891 non-null    int64  \n",
      " 7   Parch        891 non-null    int64  \n",
      " 8   Ticket       891 non-null    object \n",
      " 9   Fare         891 non-null    float64\n",
      " 10  Cabin        204 non-null    object \n",
      " 11  Embarked     889 non-null    object \n",
      "dtypes: float64(2), int64(5), object(5)\n",
      "memory usage: 83.7+ KB\n"
     ]
    }
   ],
   "source": [
    "train_copy.info()"
   ]
  },
  {
   "cell_type": "code",
   "execution_count": 5,
   "id": "617b6594",
   "metadata": {
    "execution": {
     "iopub.execute_input": "2023-12-03T15:14:00.673295Z",
     "iopub.status.busy": "2023-12-03T15:14:00.672792Z",
     "iopub.status.idle": "2023-12-03T15:14:00.690635Z",
     "shell.execute_reply": "2023-12-03T15:14:00.688772Z"
    },
    "papermill": {
     "duration": 0.042944,
     "end_time": "2023-12-03T15:14:00.693843",
     "exception": false,
     "start_time": "2023-12-03T15:14:00.650899",
     "status": "completed"
    },
    "tags": []
   },
   "outputs": [
    {
     "name": "stdout",
     "output_type": "stream",
     "text": [
      "<class 'pandas.core.frame.DataFrame'>\n",
      "RangeIndex: 418 entries, 0 to 417\n",
      "Data columns (total 11 columns):\n",
      " #   Column       Non-Null Count  Dtype  \n",
      "---  ------       --------------  -----  \n",
      " 0   PassengerId  418 non-null    int64  \n",
      " 1   Pclass       418 non-null    int64  \n",
      " 2   Name         418 non-null    object \n",
      " 3   Sex          418 non-null    object \n",
      " 4   Age          332 non-null    float64\n",
      " 5   SibSp        418 non-null    int64  \n",
      " 6   Parch        418 non-null    int64  \n",
      " 7   Ticket       418 non-null    object \n",
      " 8   Fare         417 non-null    float64\n",
      " 9   Cabin        91 non-null     object \n",
      " 10  Embarked     418 non-null    object \n",
      "dtypes: float64(2), int64(4), object(5)\n",
      "memory usage: 36.0+ KB\n"
     ]
    }
   ],
   "source": [
    "test_copy.info()"
   ]
  },
  {
   "cell_type": "code",
   "execution_count": 6,
   "id": "9bb3fe39",
   "metadata": {
    "execution": {
     "iopub.execute_input": "2023-12-03T15:14:00.734739Z",
     "iopub.status.busy": "2023-12-03T15:14:00.734223Z",
     "iopub.status.idle": "2023-12-03T15:14:00.761927Z",
     "shell.execute_reply": "2023-12-03T15:14:00.760626Z"
    },
    "papermill": {
     "duration": 0.051105,
     "end_time": "2023-12-03T15:14:00.764560",
     "exception": false,
     "start_time": "2023-12-03T15:14:00.713455",
     "status": "completed"
    },
    "tags": []
   },
   "outputs": [
    {
     "data": {
      "text/html": [
       "<div>\n",
       "<style scoped>\n",
       "    .dataframe tbody tr th:only-of-type {\n",
       "        vertical-align: middle;\n",
       "    }\n",
       "\n",
       "    .dataframe tbody tr th {\n",
       "        vertical-align: top;\n",
       "    }\n",
       "\n",
       "    .dataframe thead th {\n",
       "        text-align: right;\n",
       "    }\n",
       "</style>\n",
       "<table border=\"1\" class=\"dataframe\">\n",
       "  <thead>\n",
       "    <tr style=\"text-align: right;\">\n",
       "      <th></th>\n",
       "      <th>PassengerId</th>\n",
       "      <th>Survived</th>\n",
       "      <th>Pclass</th>\n",
       "      <th>Name</th>\n",
       "      <th>Sex</th>\n",
       "      <th>Age</th>\n",
       "      <th>SibSp</th>\n",
       "      <th>Parch</th>\n",
       "      <th>Ticket</th>\n",
       "      <th>Fare</th>\n",
       "      <th>Cabin</th>\n",
       "      <th>Embarked</th>\n",
       "    </tr>\n",
       "  </thead>\n",
       "  <tbody>\n",
       "    <tr>\n",
       "      <th>0</th>\n",
       "      <td>1</td>\n",
       "      <td>0</td>\n",
       "      <td>3</td>\n",
       "      <td>Braund, Mr. Owen Harris</td>\n",
       "      <td>male</td>\n",
       "      <td>22.0</td>\n",
       "      <td>1</td>\n",
       "      <td>0</td>\n",
       "      <td>A/5 21171</td>\n",
       "      <td>7.2500</td>\n",
       "      <td>NaN</td>\n",
       "      <td>S</td>\n",
       "    </tr>\n",
       "    <tr>\n",
       "      <th>1</th>\n",
       "      <td>2</td>\n",
       "      <td>1</td>\n",
       "      <td>1</td>\n",
       "      <td>Cumings, Mrs. John Bradley (Florence Briggs Th...</td>\n",
       "      <td>female</td>\n",
       "      <td>38.0</td>\n",
       "      <td>1</td>\n",
       "      <td>0</td>\n",
       "      <td>PC 17599</td>\n",
       "      <td>71.2833</td>\n",
       "      <td>C85</td>\n",
       "      <td>C</td>\n",
       "    </tr>\n",
       "    <tr>\n",
       "      <th>2</th>\n",
       "      <td>3</td>\n",
       "      <td>1</td>\n",
       "      <td>3</td>\n",
       "      <td>Heikkinen, Miss. Laina</td>\n",
       "      <td>female</td>\n",
       "      <td>26.0</td>\n",
       "      <td>0</td>\n",
       "      <td>0</td>\n",
       "      <td>STON/O2. 3101282</td>\n",
       "      <td>7.9250</td>\n",
       "      <td>NaN</td>\n",
       "      <td>S</td>\n",
       "    </tr>\n",
       "    <tr>\n",
       "      <th>3</th>\n",
       "      <td>4</td>\n",
       "      <td>1</td>\n",
       "      <td>1</td>\n",
       "      <td>Futrelle, Mrs. Jacques Heath (Lily May Peel)</td>\n",
       "      <td>female</td>\n",
       "      <td>35.0</td>\n",
       "      <td>1</td>\n",
       "      <td>0</td>\n",
       "      <td>113803</td>\n",
       "      <td>53.1000</td>\n",
       "      <td>C123</td>\n",
       "      <td>S</td>\n",
       "    </tr>\n",
       "    <tr>\n",
       "      <th>4</th>\n",
       "      <td>5</td>\n",
       "      <td>0</td>\n",
       "      <td>3</td>\n",
       "      <td>Allen, Mr. William Henry</td>\n",
       "      <td>male</td>\n",
       "      <td>35.0</td>\n",
       "      <td>0</td>\n",
       "      <td>0</td>\n",
       "      <td>373450</td>\n",
       "      <td>8.0500</td>\n",
       "      <td>NaN</td>\n",
       "      <td>S</td>\n",
       "    </tr>\n",
       "  </tbody>\n",
       "</table>\n",
       "</div>"
      ],
      "text/plain": [
       "   PassengerId  Survived  Pclass  \\\n",
       "0            1         0       3   \n",
       "1            2         1       1   \n",
       "2            3         1       3   \n",
       "3            4         1       1   \n",
       "4            5         0       3   \n",
       "\n",
       "                                                Name     Sex   Age  SibSp  \\\n",
       "0                            Braund, Mr. Owen Harris    male  22.0      1   \n",
       "1  Cumings, Mrs. John Bradley (Florence Briggs Th...  female  38.0      1   \n",
       "2                             Heikkinen, Miss. Laina  female  26.0      0   \n",
       "3       Futrelle, Mrs. Jacques Heath (Lily May Peel)  female  35.0      1   \n",
       "4                           Allen, Mr. William Henry    male  35.0      0   \n",
       "\n",
       "   Parch            Ticket     Fare Cabin Embarked  \n",
       "0      0         A/5 21171   7.2500   NaN        S  \n",
       "1      0          PC 17599  71.2833   C85        C  \n",
       "2      0  STON/O2. 3101282   7.9250   NaN        S  \n",
       "3      0            113803  53.1000  C123        S  \n",
       "4      0            373450   8.0500   NaN        S  "
      ]
     },
     "execution_count": 6,
     "metadata": {},
     "output_type": "execute_result"
    }
   ],
   "source": [
    "train.head()"
   ]
  },
  {
   "cell_type": "code",
   "execution_count": 7,
   "id": "68111dd3",
   "metadata": {
    "execution": {
     "iopub.execute_input": "2023-12-03T15:14:00.805379Z",
     "iopub.status.busy": "2023-12-03T15:14:00.804890Z",
     "iopub.status.idle": "2023-12-03T15:14:00.811198Z",
     "shell.execute_reply": "2023-12-03T15:14:00.809857Z"
    },
    "papermill": {
     "duration": 0.030121,
     "end_time": "2023-12-03T15:14:00.814264",
     "exception": false,
     "start_time": "2023-12-03T15:14:00.784143",
     "status": "completed"
    },
    "tags": []
   },
   "outputs": [
    {
     "name": "stdout",
     "output_type": "stream",
     "text": [
      "train shape: (891, 12)\n",
      "test shape: (418, 11)\n"
     ]
    }
   ],
   "source": [
    "print(f\"train shape: {train.shape}\\ntest shape: {test.shape}\") "
   ]
  },
  {
   "cell_type": "code",
   "execution_count": 8,
   "id": "0c81fafa",
   "metadata": {
    "execution": {
     "iopub.execute_input": "2023-12-03T15:14:00.855887Z",
     "iopub.status.busy": "2023-12-03T15:14:00.855366Z",
     "iopub.status.idle": "2023-12-03T15:14:00.866323Z",
     "shell.execute_reply": "2023-12-03T15:14:00.865307Z"
    },
    "papermill": {
     "duration": 0.036288,
     "end_time": "2023-12-03T15:14:00.869702",
     "exception": false,
     "start_time": "2023-12-03T15:14:00.833414",
     "status": "completed"
    },
    "tags": []
   },
   "outputs": [
    {
     "data": {
      "text/plain": [
       "True"
      ]
     },
     "execution_count": 8,
     "metadata": {},
     "output_type": "execute_result"
    }
   ],
   "source": [
    "# It's just an iterative ID, we can drop it\n",
    "train['PassengerId'].nunique() == train.shape[0]"
   ]
  },
  {
   "cell_type": "code",
   "execution_count": 9,
   "id": "dc7126e4",
   "metadata": {
    "execution": {
     "iopub.execute_input": "2023-12-03T15:14:00.911702Z",
     "iopub.status.busy": "2023-12-03T15:14:00.911264Z",
     "iopub.status.idle": "2023-12-03T15:14:00.923751Z",
     "shell.execute_reply": "2023-12-03T15:14:00.922358Z"
    },
    "papermill": {
     "duration": 0.036452,
     "end_time": "2023-12-03T15:14:00.926539",
     "exception": false,
     "start_time": "2023-12-03T15:14:00.890087",
     "status": "completed"
    },
    "tags": []
   },
   "outputs": [
    {
     "data": {
      "text/plain": [
       "Survived\n",
       "0    549\n",
       "1    342\n",
       "Name: count, dtype: int64"
      ]
     },
     "execution_count": 9,
     "metadata": {},
     "output_type": "execute_result"
    }
   ],
   "source": [
    "# Survived distribution\n",
    "train['Survived'].value_counts()"
   ]
  },
  {
   "cell_type": "code",
   "execution_count": 10,
   "id": "187314c2",
   "metadata": {
    "execution": {
     "iopub.execute_input": "2023-12-03T15:14:01.069034Z",
     "iopub.status.busy": "2023-12-03T15:14:01.068613Z",
     "iopub.status.idle": "2023-12-03T15:14:01.078938Z",
     "shell.execute_reply": "2023-12-03T15:14:01.077457Z"
    },
    "papermill": {
     "duration": 0.136246,
     "end_time": "2023-12-03T15:14:01.082346",
     "exception": false,
     "start_time": "2023-12-03T15:14:00.946100",
     "status": "completed"
    },
    "tags": []
   },
   "outputs": [
    {
     "data": {
      "text/plain": [
       "Pclass\n",
       "3    491\n",
       "1    216\n",
       "2    184\n",
       "Name: count, dtype: int64"
      ]
     },
     "execution_count": 10,
     "metadata": {},
     "output_type": "execute_result"
    }
   ],
   "source": [
    "# Pclass distribution\n",
    "train['Pclass'].value_counts()"
   ]
  },
  {
   "cell_type": "code",
   "execution_count": 11,
   "id": "ba0d5f33",
   "metadata": {
    "execution": {
     "iopub.execute_input": "2023-12-03T15:14:01.126032Z",
     "iopub.status.busy": "2023-12-03T15:14:01.125611Z",
     "iopub.status.idle": "2023-12-03T15:14:01.135118Z",
     "shell.execute_reply": "2023-12-03T15:14:01.133876Z"
    },
    "papermill": {
     "duration": 0.033604,
     "end_time": "2023-12-03T15:14:01.137513",
     "exception": false,
     "start_time": "2023-12-03T15:14:01.103909",
     "status": "completed"
    },
    "tags": []
   },
   "outputs": [
    {
     "data": {
      "text/plain": [
       "0                              Braund, Mr. Owen Harris\n",
       "1    Cumings, Mrs. John Bradley (Florence Briggs Th...\n",
       "2                               Heikkinen, Miss. Laina\n",
       "3         Futrelle, Mrs. Jacques Heath (Lily May Peel)\n",
       "4                             Allen, Mr. William Henry\n",
       "Name: Name, dtype: object"
      ]
     },
     "execution_count": 11,
     "metadata": {},
     "output_type": "execute_result"
    }
   ],
   "source": [
    "# Name\n",
    "train['Name'].head()"
   ]
  },
  {
   "cell_type": "code",
   "execution_count": 12,
   "id": "777c8d7c",
   "metadata": {
    "execution": {
     "iopub.execute_input": "2023-12-03T15:14:01.181010Z",
     "iopub.status.busy": "2023-12-03T15:14:01.180626Z",
     "iopub.status.idle": "2023-12-03T15:14:01.249985Z",
     "shell.execute_reply": "2023-12-03T15:14:01.248228Z"
    },
    "papermill": {
     "duration": 0.095702,
     "end_time": "2023-12-03T15:14:01.253202",
     "exception": false,
     "start_time": "2023-12-03T15:14:01.157500",
     "status": "completed"
    },
    "scrolled": true,
    "tags": []
   },
   "outputs": [
    {
     "data": {
      "text/plain": [
       "{'mr': 518,\n",
       " 'miss': 182,\n",
       " 'mrs': 129,\n",
       " 'william': 63,\n",
       " 'john': 44,\n",
       " 'master': 40,\n",
       " 'henry': 34,\n",
       " 'james': 24,\n",
       " 'charles': 24,\n",
       " 'george': 23,\n",
       " 'thomas': 22,\n",
       " 'mary': 20,\n",
       " 'edward': 18,\n",
       " 'anna': 17,\n",
       " 'joseph': 16,\n",
       " 'elizabeth': 15,\n",
       " 'johan': 15,\n",
       " 'frederick': 15,\n",
       " 'richard': 14,\n",
       " 'samuel': 13,\n",
       " 'arthur': 13,\n",
       " 'margaret': 12,\n",
       " 'alfred': 12,\n",
       " 'maria': 11,\n",
       " 'alexander': 11,\n",
       " 'peter': 11,\n",
       " 'robert': 10,\n",
       " 'jr': 10,\n",
       " 'leonard': 9,\n",
       " 'andersson': 9,\n",
       " 'ernest': 9,\n",
       " 'karl': 9,\n",
       " 'j': 8,\n",
       " 'annie': 8,\n",
       " 'h': 8,\n",
       " 'albert': 8,\n",
       " 'martin': 8,\n",
       " 'victor': 8,\n",
       " 'alice': 8,\n",
       " 'helen': 7,\n",
       " 'frank': 7,\n",
       " 'david': 7,\n",
       " 'sage': 7,\n",
       " 'dr': 7,\n",
       " 'johnson': 6,\n",
       " 'e': 6,\n",
       " 'marie': 6,\n",
       " 'panula': 6,\n",
       " 'goodwin': 6,\n",
       " 'skoog': 6,\n",
       " 'francis': 6,\n",
       " 'elias': 6,\n",
       " 'sofia': 6,\n",
       " 'rev': 6,\n",
       " 'edith': 6,\n",
       " 'van': 6,\n",
       " 'harry': 6,\n",
       " 'kate': 6,\n",
       " 'carter': 6,\n",
       " 'de': 6,\n",
       " 'catherine': 6,\n",
       " 'harris': 5,\n",
       " 'florence': 5,\n",
       " 'rice': 5,\n",
       " 'williams': 5,\n",
       " 'augusta': 5,\n",
       " 'ellen': 5,\n",
       " 'anne': 5,\n",
       " 'hansen': 5,\n",
       " 'bertha': 5,\n",
       " 'gustafsson': 5,\n",
       " 'ford': 5,\n",
       " 'daniel': 5,\n",
       " 'ada': 5,\n",
       " 'gustaf': 5,\n",
       " 'walter': 5,\n",
       " 'patrick': 5,\n",
       " 'august': 5,\n",
       " 'olsen': 5,\n",
       " 'brown': 5,\n",
       " 'ernst': 5,\n",
       " 'nils': 5,\n",
       " 'l': 5,\n",
       " 'louise': 5,\n",
       " 'jane': 5,\n",
       " 'thayer': 4,\n",
       " 'palsson': 4,\n",
       " 'elisabeth': 4,\n",
       " 'vander': 4,\n",
       " 'asplund': 4,\n",
       " 'carl': 4,\n",
       " 'johansson': 4,\n",
       " 'fortune': 4,\n",
       " 'hanna': 4,\n",
       " 'harper': 4,\n",
       " 'hugh': 4,\n",
       " 'emily': 4,\n",
       " 'a': 4,\n",
       " 'ivan': 4,\n",
       " 'emil': 4,\n",
       " 'bertram': 4,\n",
       " 'matilda': 4,\n",
       " 'stanley': 4,\n",
       " 'percival': 4,\n",
       " 'boulos': 4,\n",
       " 'andrew': 4,\n",
       " 'katherine': 4,\n",
       " 'viktor': 4,\n",
       " 'martha': 4,\n",
       " 'smith': 4,\n",
       " 'lefebre': 4,\n",
       " 'hans': 4,\n",
       " 'sidney': 4,\n",
       " 'norman': 4,\n",
       " 'kelly': 4,\n",
       " 'y': 4,\n",
       " 'hart': 4,\n",
       " 'benjamin': 4,\n",
       " 'elsie': 4,\n",
       " 'marion': 4,\n",
       " 'richards': 4,\n",
       " 'baclini': 4,\n",
       " 'jacques': 3,\n",
       " 'moran': 3,\n",
       " 'anders': 3,\n",
       " 'd': 3,\n",
       " 'eugene': 3,\n",
       " 'planke': 3,\n",
       " 'meyer': 3,\n",
       " 'oskar': 3,\n",
       " 'larsson': 3,\n",
       " 'ann': 3,\n",
       " 'laroche': 3,\n",
       " 'delia': 3,\n",
       " 'juha': 3,\n",
       " 'west': 3,\n",
       " 'stephen': 3,\n",
       " 'lillian': 3,\n",
       " 'amy': 3,\n",
       " 'm': 3,\n",
       " 'mabel': 3,\n",
       " 'edvin': 3,\n",
       " 'white': 3,\n",
       " 'jussila': 3,\n",
       " 'edvard': 3,\n",
       " 'hickman': 3,\n",
       " 'navratil': 3,\n",
       " 'katie': 3,\n",
       " 'bengtsson': 3,\n",
       " 'goldsmith': 3,\n",
       " 'wilhelm': 3,\n",
       " 'reginald': 3,\n",
       " 'rene': 3,\n",
       " \"o'brien\": 3,\n",
       " 'c': 3,\n",
       " 'bourke': 3,\n",
       " 'jakob': 3,\n",
       " 'ali': 3,\n",
       " 'madeleine': 3,\n",
       " 'newell': 3,\n",
       " 'hoyt': 3,\n",
       " 'hall': 3,\n",
       " 'collyer': 3,\n",
       " 'davis': 3,\n",
       " 'taussig': 3,\n",
       " 'graham': 3,\n",
       " 'amelia': 3,\n",
       " 'hanora': 3,\n",
       " 'nora': 3,\n",
       " 'andrews': 3,\n",
       " 'walton': 3,\n",
       " 'g': 3,\n",
       " 'allison': 3,\n",
       " 'jean': 3,\n",
       " 'agnes': 3,\n",
       " 'leo': 3,\n",
       " 'tannous': 3,\n",
       " 'barbara': 3,\n",
       " 'davies': 3,\n",
       " 'olof': 3,\n",
       " 'jessie': 3,\n",
       " 'ida': 3,\n",
       " 'impe': 3,\n",
       " 'flynn': 3,\n",
       " 'hocking': 3,\n",
       " 'r': 3,\n",
       " 'anderson': 3,\n",
       " 'jacob': 3,\n",
       " 'campbell': 3,\n",
       " 'svensson': 3,\n",
       " 'douglas': 3,\n",
       " 'ethel': 3,\n",
       " 'morgan': 3,\n",
       " 'borland': 3,\n",
       " 'herman': 3,\n",
       " 'jensen': 3,\n",
       " 'solomon': 3,\n",
       " 'michael': 3,\n",
       " 'braund': 2,\n",
       " 'owen': 2,\n",
       " 'bradley': 2,\n",
       " 'heath': 2,\n",
       " 'may': 2,\n",
       " 'lily': 2,\n",
       " 'futrelle': 2,\n",
       " 'allen': 2,\n",
       " 'timothy': 2,\n",
       " 'w': 2,\n",
       " 'oscar': 2,\n",
       " 'nicholas': 2,\n",
       " 'adele': 2,\n",
       " 'nasser': 2,\n",
       " 'sandstrom': 2,\n",
       " 'lawrence': 2,\n",
       " 'thompson': 2,\n",
       " 'emilia': 2,\n",
       " 'nellie': 2,\n",
       " 'lalio': 2,\n",
       " 'manuel': 2,\n",
       " 'augustus': 2,\n",
       " 'spencer': 2,\n",
       " 'eugenie': 2,\n",
       " 'edgar': 2,\n",
       " 'holverson': 2,\n",
       " 'nicola-yarred': 2,\n",
       " 'johanna': 2,\n",
       " 'dorothy': 2,\n",
       " 'turpin': 2,\n",
       " 'theodor': 2,\n",
       " 'denis': 2,\n",
       " 'bridget': 2,\n",
       " 'youssef': 2,\n",
       " 'arnold-franchi': 2,\n",
       " 'josef': 2,\n",
       " 'sleeper': 2,\n",
       " 'constance': 2,\n",
       " 'birkhardt': 2,\n",
       " 'harald': 2,\n",
       " 'moubarek': 2,\n",
       " 'alexandra': 2,\n",
       " 'lee': 2,\n",
       " 'caldwell': 2,\n",
       " 'backstrom': 2,\n",
       " 'neal': 2,\n",
       " 'dean': 2,\n",
       " 'doling': 2,\n",
       " 'kantor': 2,\n",
       " 'sinai': 2,\n",
       " 'petroff': 2,\n",
       " 'joel': 2,\n",
       " 'zabour': 2,\n",
       " 'attalah': 2,\n",
       " 'baxter': 2,\n",
       " 'edmond': 2,\n",
       " 'webber': 2,\n",
       " 'susan': 2,\n",
       " 'arne': 2,\n",
       " 'mathilde': 2,\n",
       " 'monypeny': 2,\n",
       " 'pekka': 2,\n",
       " 'hakkarainen': 2,\n",
       " 'pietari': 2,\n",
       " 'maggie': 2,\n",
       " 'michel': 2,\n",
       " 'louis': 2,\n",
       " 'pears': 2,\n",
       " 'austin': 2,\n",
       " 'duane': 2,\n",
       " 'bessie': 2,\n",
       " 'calic': 2,\n",
       " 'eino': 2,\n",
       " 'bowerman': 2,\n",
       " 'karlsson': 2,\n",
       " 'antti': 2,\n",
       " 'gladys': 2,\n",
       " 'hugo': 2,\n",
       " 'becker': 2,\n",
       " 'gretchen': 2,\n",
       " 'godfrey': 2,\n",
       " 'hannah': 2,\n",
       " 'rosa': 2,\n",
       " 'tobin': 2,\n",
       " 'andreas': 2,\n",
       " 'vande': 2,\n",
       " 'gerious': 2,\n",
       " 'strom': 2,\n",
       " 'philip': 2,\n",
       " 'jacobsohn': 2,\n",
       " 'maxfield': 2,\n",
       " 'berglund': 2,\n",
       " 'adolf': 2,\n",
       " 'marjorie': 2,\n",
       " 'hunt': 2,\n",
       " 'murphy': 2,\n",
       " 'matti': 2,\n",
       " 'minahan': 2,\n",
       " 'hamalainen': 2,\n",
       " 'beckwith': 2,\n",
       " 'courtenay': 2,\n",
       " 'persson': 2,\n",
       " 'lobb': 2,\n",
       " 'rosblom': 2,\n",
       " 'razi': 2,\n",
       " 'thorne': 2,\n",
       " 'gertrude': 2,\n",
       " 'parrish': 2,\n",
       " 'arvid': 2,\n",
       " 'mellinger': 2,\n",
       " 'charlotta': 2,\n",
       " 'abbott': 2,\n",
       " 'olsson': 2,\n",
       " 'alfons': 2,\n",
       " 'dickinson': 2,\n",
       " 'bishop': 2,\n",
       " 'helene': 2,\n",
       " 'mccoy': 2,\n",
       " 'keane': 2,\n",
       " 'hudson': 2,\n",
       " 'fleming': 2,\n",
       " 'satode': 2,\n",
       " 'castellana': 2,\n",
       " 'penasco': 2,\n",
       " 'abelson': 2,\n",
       " 'hays': 2,\n",
       " 'ryerson': 2,\n",
       " 'miriam': 2,\n",
       " 'wick': 2,\n",
       " 'frederic': 2,\n",
       " 'stone': 2,\n",
       " 'hippach': 2,\n",
       " 'clara': 2,\n",
       " 'frauenthal': 2,\n",
       " 'roger': 2,\n",
       " 'erik': 2,\n",
       " 'coutts': 2,\n",
       " 'mauritz': 2,\n",
       " 'sophia': 2,\n",
       " 'rosalie': 2,\n",
       " 'nakid': 2,\n",
       " 'juho': 2,\n",
       " 'hjalmar': 2,\n",
       " 'marija': 2,\n",
       " 'oreskovic': 2,\n",
       " 'daisy': 2,\n",
       " 'julian': 2,\n",
       " 'christian': 2,\n",
       " 'sigrid': 2,\n",
       " 'brogren': 2,\n",
       " 'gilbert': 2,\n",
       " 'danbom': 2,\n",
       " 'clarke': 2,\n",
       " 'marshall': 2,\n",
       " 'thorneycroft': 2,\n",
       " 'baird': 2,\n",
       " 'silvey': 2,\n",
       " 'polk': 2,\n",
       " 'lucile': 2,\n",
       " 'mark': 2,\n",
       " 'henrik': 2,\n",
       " 'washington': 2,\n",
       " 'major': 2,\n",
       " 'edwy': 2,\n",
       " 'hagland': 2,\n",
       " 'goldenberg': 2,\n",
       " 'maurice': 2,\n",
       " 'morley': 2,\n",
       " 'cacic': 2,\n",
       " 'luka': 2,\n",
       " 'amin': 2,\n",
       " 'renouf': 2,\n",
       " 'lewis': 2,\n",
       " 'harold': 2,\n",
       " 'anthony': 2,\n",
       " 'hedwig': 2,\n",
       " 'leslie': 2,\n",
       " 'mathias': 2,\n",
       " 'yousseff': 2,\n",
       " 'eustis': 2,\n",
       " 'quick': 2,\n",
       " 'daly': 2,\n",
       " 'coleff': 2,\n",
       " 'hughes': 2,\n",
       " 'fischer': 2,\n",
       " 'lucy': 2,\n",
       " 'crosby': 2,\n",
       " 'beane': 2,\n",
       " 'wright': 2,\n",
       " 'gordon': 2,\n",
       " 'duff': 2,\n",
       " 'emma': 2,\n",
       " 'charlotte': 2,\n",
       " 'christy': 2,\n",
       " 'chapman': 2,\n",
       " 'baptiste': 2,\n",
       " 'alfrida': 2,\n",
       " 'antoni': 2,\n",
       " 'yasbeck': 2,\n",
       " 'nelson': 2,\n",
       " 'wilson': 2,\n",
       " 'harvey': 2,\n",
       " 'peder': 2,\n",
       " 'mlle': 2,\n",
       " 'col': 2,\n",
       " 'johannes': 2,\n",
       " 'elmer': 2,\n",
       " 'zebley': 2,\n",
       " 'taylor': 2,\n",
       " 'thornton': 2,\n",
       " 'watson': 2,\n",
       " 'arnold': 2,\n",
       " 'dick': 2,\n",
       " 'adrian': 2,\n",
       " 'lam': 2,\n",
       " 'saad': 2,\n",
       " 'lauritz': 2,\n",
       " 'malkolm': 2,\n",
       " 'gillespie': 2,\n",
       " 'chambers': 2,\n",
       " 'moor': 2,\n",
       " 'carlsson': 2,\n",
       " 'johnston': 2,\n",
       " 'abraham': 2,\n",
       " 'ii': 2,\n",
       " 'mallet': 2,\n",
       " 'briggs': 1,\n",
       " 'cumings': 1,\n",
       " 'laina': 1,\n",
       " 'heikkinen': 1,\n",
       " 'peel': 1,\n",
       " 'mccarthy': 1,\n",
       " 'gosta': 1,\n",
       " 'vilhelmina': 1,\n",
       " 'berg': 1,\n",
       " 'achem': 1,\n",
       " 'marguerite': 1,\n",
       " 'rut': 1,\n",
       " 'bonnell': 1,\n",
       " 'saundercock': 1,\n",
       " 'vestrom': 1,\n",
       " 'hulda': 1,\n",
       " 'amanda': 1,\n",
       " 'adolfina': 1,\n",
       " 'hewlett': 1,\n",
       " 'kingcome': 1,\n",
       " 'emelia': 1,\n",
       " 'vandemoortele': 1,\n",
       " 'julius': 1,\n",
       " 'masselmani': 1,\n",
       " 'fatima': 1,\n",
       " 'fynney': 1,\n",
       " 'beesley': 1,\n",
       " 'mcgowan': 1,\n",
       " 'sloper': 1,\n",
       " 'danira': 1,\n",
       " 'torborg': 1,\n",
       " 'selma': 1,\n",
       " 'chehab': 1,\n",
       " 'farred': 1,\n",
       " 'emir': 1,\n",
       " \"o'dwyer\": 1,\n",
       " 'todoroff': 1,\n",
       " 'don': 1,\n",
       " 'uruchurtu': 1,\n",
       " 'glynn': 1,\n",
       " 'agatha': 1,\n",
       " 'wheadon': 1,\n",
       " 'mamee': 1,\n",
       " 'cann': 1,\n",
       " 'jamila': 1,\n",
       " 'persdotter': 1,\n",
       " 'ahlin': 1,\n",
       " 'wonnacott': 1,\n",
       " 'kraeff': 1,\n",
       " 'simonne': 1,\n",
       " 'andree': 1,\n",
       " 'devaney': 1,\n",
       " 'rogers': 1,\n",
       " 'lennon': 1,\n",
       " \"o'driscoll\": 1,\n",
       " 'samaan': 1,\n",
       " 'josefine': 1,\n",
       " 'franchi': 1,\n",
       " 'niilo': 1,\n",
       " 'nosworthy': 1,\n",
       " 'cater': 1,\n",
       " 'myna': 1,\n",
       " 'haxtun': 1,\n",
       " 'lizzie': 1,\n",
       " 'faunthorpe': 1,\n",
       " 'wilkinson': 1,\n",
       " 'engelhart': 1,\n",
       " 'cornelius': 1,\n",
       " 'ostby': 1,\n",
       " 'woolner': 1,\n",
       " 'rugg': 1,\n",
       " 'novel': 1,\n",
       " 'mansouer': 1,\n",
       " 'mirium': 1,\n",
       " 'orsen': 1,\n",
       " 'sirayanian': 1,\n",
       " 'amelie': 1,\n",
       " 'icard': 1,\n",
       " 'stewart': 1,\n",
       " 'gerios': 1,\n",
       " 'ramell': 1,\n",
       " 'nye': 1,\n",
       " 'crease': 1,\n",
       " 'erna': 1,\n",
       " 'kink': 1,\n",
       " 'vincenz': 1,\n",
       " 'jenkin': 1,\n",
       " 'curnow': 1,\n",
       " 'ambrose': 1,\n",
       " 'hood': 1,\n",
       " 'chronopoulos': 1,\n",
       " 'apostolos': 1,\n",
       " 'bing': 1,\n",
       " 'sigurd': 1,\n",
       " 'moen': 1,\n",
       " 'staneff': 1,\n",
       " 'rahamin': 1,\n",
       " 'haim': 1,\n",
       " 'moutal': 1,\n",
       " 'alden': 1,\n",
       " 'gates': 1,\n",
       " 'dowdell': 1,\n",
       " 'waelens': 1,\n",
       " 'achille': 1,\n",
       " 'sheerlinck': 1,\n",
       " 'baptist': 1,\n",
       " 'jan': 1,\n",
       " 'brigdet': 1,\n",
       " 'mcdermott': 1,\n",
       " 'carrau': 1,\n",
       " 'francisco': 1,\n",
       " 'ilett': 1,\n",
       " 'mathilda': 1,\n",
       " 'selman': 1,\n",
       " 'slocovski': 1,\n",
       " 'celotti': 1,\n",
       " 'francesco': 1,\n",
       " 'christmann': 1,\n",
       " 'andreasson': 1,\n",
       " 'paul': 1,\n",
       " 'chaffee': 1,\n",
       " 'fuller': 1,\n",
       " 'herbert': 1,\n",
       " 'coxon': 1,\n",
       " 'shorney': 1,\n",
       " 'goldschmidt': 1,\n",
       " 'b': 1,\n",
       " 'greenfield': 1,\n",
       " 'julia': 1,\n",
       " 'bone': 1,\n",
       " 't': 1,\n",
       " 'petranec': 1,\n",
       " 'pastcho': 1,\n",
       " 'pentcho': 1,\n",
       " 'frasar': 1,\n",
       " 'vilhelm': 1,\n",
       " 'mionoff': 1,\n",
       " 'stoytcho': 1,\n",
       " 'kristine': 1,\n",
       " 'salkjelsvik': 1,\n",
       " 'moss': 1,\n",
       " 'rekic': 1,\n",
       " 'tido': 1,\n",
       " 'chamberlain': 1,\n",
       " 'porter': 1,\n",
       " 'hileni': 1,\n",
       " 'barton': 1,\n",
       " 'katriina': 1,\n",
       " 'malake': 1,\n",
       " 'pekoniemi': 1,\n",
       " 'connors': 1,\n",
       " 'quigg': 1,\n",
       " 'ellis': 1,\n",
       " 'moore': 1,\n",
       " 'wayland': 1,\n",
       " 'mcmahon': 1,\n",
       " 'fridtjof': 1,\n",
       " 'madsen': 1,\n",
       " 'ekstrom': 1,\n",
       " 'drazenoic': 1,\n",
       " 'jozef': 1,\n",
       " 'fernandeo': 1,\n",
       " 'coelho': 1,\n",
       " 'domingos': 1,\n",
       " 'grace': 1,\n",
       " 'laury': 1,\n",
       " 'charity': 1,\n",
       " 'robins': 1,\n",
       " 'weisz': 1,\n",
       " 'leopold': 1,\n",
       " 'francoise': 1,\n",
       " 'pede': 1,\n",
       " 'hayden': 1,\n",
       " 'sobey': 1,\n",
       " 'emile': 1,\n",
       " 'newsom': 1,\n",
       " 'osen': 1,\n",
       " 'elon': 1,\n",
       " 'olaf': 1,\n",
       " 'giglio': 1,\n",
       " 'sultana': 1,\n",
       " 'nysten': 1,\n",
       " 'dolck': 1,\n",
       " 'elin': 1,\n",
       " 'burke': 1,\n",
       " 'jeremiah': 1,\n",
       " 'edgardo': 1,\n",
       " 'nicholls': 1,\n",
       " 'wennerstrom': 1,\n",
       " 'robina': 1,\n",
       " 'ruby': 1,\n",
       " 'hoffman': 1,\n",
       " 'davids': 1,\n",
       " 'byles': 1,\n",
       " 'roussel': 1,\n",
       " 'bateman': 1,\n",
       " 'wearne': 1,\n",
       " 'meo': 1,\n",
       " 'alfonzo': 1,\n",
       " 'billiard': 1,\n",
       " 'blyler': 1,\n",
       " 'ole': 1,\n",
       " 'gilnagh': 1,\n",
       " 'corn': 1,\n",
       " 'smiljanic': 1,\n",
       " 'mile': 1,\n",
       " 'cribb': 1,\n",
       " 'hatfield': 1,\n",
       " 'inglis': 1,\n",
       " 'milne': 1,\n",
       " 'watt': 1,\n",
       " 'jovo': 1,\n",
       " 'viljami': 1,\n",
       " 'frankie': 1,\n",
       " 'chibnall': 1,\n",
       " 'bernhardina': 1,\n",
       " 'baumann': 1,\n",
       " 'ling': 1,\n",
       " 'hoef': 1,\n",
       " 'der': 1,\n",
       " 'wyckoff': 1,\n",
       " 'ileen': 1,\n",
       " 'eleanor': 1,\n",
       " 'sivola': 1,\n",
       " 'clinch': 1,\n",
       " 'klasen': 1,\n",
       " 'albin': 1,\n",
       " 'klas': 1,\n",
       " 'forbes': 1,\n",
       " 'isham': 1,\n",
       " 'hale': 1,\n",
       " 'lionel': 1,\n",
       " 'pernot': 1,\n",
       " 'clarence': 1,\n",
       " 'f': 1,\n",
       " 'luise': 1,\n",
       " 'kink-heilmann': 1,\n",
       " 'roscoe': 1,\n",
       " 'rood': 1,\n",
       " 'romaine': 1,\n",
       " 'hallace': 1,\n",
       " 'rolmane': 1,\n",
       " 'stjepan': 1,\n",
       " 'turcin': 1,\n",
       " 'pinsky': 1,\n",
       " 'carbines': 1,\n",
       " 'nielsine': 1,\n",
       " 'carla': 1,\n",
       " 'christine': 1,\n",
       " 'andersen-jensen': 1,\n",
       " 'elise': 1,\n",
       " 'lurette': 1,\n",
       " 'mernagh': 1,\n",
       " 'siegwart': 1,\n",
       " 'madigan': 1,\n",
       " 'henriette': 1,\n",
       " 'harbeck': 1,\n",
       " 'yrois': 1,\n",
       " 'walle': 1,\n",
       " 'cyriel': 1,\n",
       " 'nestor': 1,\n",
       " 'johanson': 1,\n",
       " 'youseff': 1,\n",
       " 'gus': 1,\n",
       " 'gurshon': 1,\n",
       " 'cohen': 1,\n",
       " 'telma': 1,\n",
       " 'albimona': 1,\n",
       " 'nassef': 1,\n",
       " 'cassem': 1,\n",
       " 'carr': 1,\n",
       " 'blank': 1,\n",
       " 'ahmed': 1,\n",
       " 'cameron': 1,\n",
       " 'clear': 1,\n",
       " 'perkin': 1,\n",
       " 'kristensen': 1,\n",
       " 'givard': 1,\n",
       " 'kiernan': 1,\n",
       " 'eliina': 1,\n",
       " 'honkanen': 1,\n",
       " 'bazzani': 1,\n",
       " 'albina': 1,\n",
       " 'sunderland': 1,\n",
       " 'bracken': 1,\n",
       " 'green': 1,\n",
       " 'nenkoff': 1,\n",
       " 'christo': 1,\n",
       " 'sven': 1,\n",
       " 'ivar': 1,\n",
       " 'mellors': 1,\n",
       " 'lovell': 1,\n",
       " 'fahlstrom': 1,\n",
       " 'jonas': 1,\n",
       " 'irene': 1,\n",
       " 'wallach': 1,\n",
       " 'bengt': 1,\n",
       " 'sjostedt': 1,\n",
       " 'gertrud': 1,\n",
       " 'leyson': 1,\n",
       " 'phoebe': 1,\n",
       " 'harknett': 1,\n",
       " 'hold': 1,\n",
       " 'lottie': 1,\n",
       " 'pengelly': 1,\n",
       " 'thamine': 1,\n",
       " 'coleridge': 1,\n",
       " 'maenpaa': 1,\n",
       " 'alexanteri': 1,\n",
       " 'sleiman': 1,\n",
       " 'thorilda': 1,\n",
       " 'lindahl': 1,\n",
       " 'agda': 1,\n",
       " 'viktoria': 1,\n",
       " 'reed': 1,\n",
       " 'elna': 1,\n",
       " 'stead': 1,\n",
       " 'helena': 1,\n",
       " 'wilhelmina': 1,\n",
       " 'darwis': 1,\n",
       " 'touma': 1,\n",
       " 'hanne': 1,\n",
       " 'maybelle': 1,\n",
       " 'cherry': 1,\n",
       " 'ward': 1,\n",
       " 'lutie': 1,\n",
       " 'felix': 1,\n",
       " 'rojj': 1,\n",
       " 'harrison': 1,\n",
       " 'reeves': 1,\n",
       " 'ernesti': 1,\n",
       " 'ulrik': 1,\n",
       " 'junkins': 1,\n",
       " 'bissette': 1,\n",
       " 'cairns': 1,\n",
       " 'tornquist': 1,\n",
       " 'maidment': 1,\n",
       " 'natsch': 1,\n",
       " 'healy': 1,\n",
       " 'theodosia': 1,\n",
       " 'kornelia': 1,\n",
       " 'lindblom': 1,\n",
       " 'parkes': 1,\n",
       " 'eric': 1,\n",
       " 'stanton': 1,\n",
       " 'goransson': 1,\n",
       " 'pelsmaeker': 1,\n",
       " 'dorking': 1,\n",
       " 'stankovic': 1,\n",
       " 'mulder': 1,\n",
       " 'theodore': 1,\n",
       " 'penko': 1,\n",
       " 'naidenoff': 1,\n",
       " 'hosono': 1,\n",
       " 'masabumi': 1,\n",
       " 'connolly': 1,\n",
       " 'barber': 1,\n",
       " 'levy': 1,\n",
       " 'haas': 1,\n",
       " 'aloisia': 1,\n",
       " 'mineff': 1,\n",
       " 'lewy': 1,\n",
       " 'ervin': 1,\n",
       " 'mansour': 1,\n",
       " 'loraine': 1,\n",
       " 'adolphe': 1,\n",
       " 'saalfeld': 1,\n",
       " 'chaput': 1,\n",
       " 'delaudeniere': 1,\n",
       " 'bernard': 1,\n",
       " 'cahoone': 1,\n",
       " 'howard': 1,\n",
       " 'trevor': 1,\n",
       " 'soto': 1,\n",
       " 'vallejo': 1,\n",
       " 'josefa': 1,\n",
       " 'perez': 1,\n",
       " 'francatelli': 1,\n",
       " 'laura': 1,\n",
       " 'bechstein': 1,\n",
       " 'borie': 1,\n",
       " 'lahtinen': 1,\n",
       " 'sylfven': 1,\n",
       " 'ignjac': 1,\n",
       " 'hendekovic': 1,\n",
       " 'nilsson': 1,\n",
       " 'helmina': 1,\n",
       " 'josefina': 1,\n",
       " 'sternin': 1,\n",
       " 'moraweck': 1,\n",
       " 'natalie': 1,\n",
       " 'spedden': 1,\n",
       " 'corning': 1,\n",
       " 'margaretta': 1,\n",
       " 'oakley': 1,\n",
       " 'dennis': 1,\n",
       " 'yoto': 1,\n",
       " 'danoff': 1,\n",
       " 'hilda': 1,\n",
       " 'slayter': 1,\n",
       " 'sylvia': 1,\n",
       " 'harbaugh': 1,\n",
       " 'mae': 1,\n",
       " 'grice': 1,\n",
       " 'young': 1,\n",
       " 'nysveen': 1,\n",
       " 'ball': 1,\n",
       " 'partner': 1,\n",
       " 'austen': 1,\n",
       " 'edmondus': 1,\n",
       " 'heinsheimer': 1,\n",
       " 'denkoff': 1,\n",
       " 'mitto': 1,\n",
       " 'clinton': 1,\n",
       " 'burns': 1,\n",
       " 'edwart': 1,\n",
       " 'dahl': 1,\n",
       " 'weart': 1,\n",
       " 'blackwell': 1,\n",
       " 'collander': 1,\n",
       " 'waddington': 1,\n",
       " 'sedgwick': 1,\n",
       " 'hubert': 1,\n",
       " 'fox': 1,\n",
       " 'mildred': 1,\n",
       " 'davison': 1,\n",
       " 'finck': 1,\n",
       " 'loch': 1,\n",
       " 'jovan': 1,\n",
       " 'dimic': 1,\n",
       " 'odahl': 1,\n",
       " 'fletcher': 1,\n",
       " 'fellows': 1,\n",
       " 'williams-lambert': 1,\n",
       " 'yousif': 1,\n",
       " 'wazli': 1,\n",
       " 'steen': 1,\n",
       " 'vanden': 1,\n",
       " 'clemmer': 1,\n",
       " 'funk': 1,\n",
       " 'mcgovern': 1,\n",
       " 'mockler': 1,\n",
       " 'ellie': 1,\n",
       " 'del': 1,\n",
       " 'sebastiano': 1,\n",
       " 'carlo': 1,\n",
       " 'asim': 1,\n",
       " 'adola': 1,\n",
       " 'adahl': 1,\n",
       " 'warren': 1,\n",
       " 'atkinson': 1,\n",
       " 'manley': 1,\n",
       " 'moussa': 1,\n",
       " 'mantoura': 1,\n",
       " 'jermyn': 1,\n",
       " 'pauline': 1,\n",
       " 'aubart': 1,\n",
       " 'mme': 1,\n",
       " 'leontine': 1,\n",
       " 'achilles': 1,\n",
       " 'harder': 1,\n",
       " 'wiklund': 1,\n",
       " 'beavan': 1,\n",
       " 'sante': 1,\n",
       " 'ringhini': 1,\n",
       " 'stina': 1,\n",
       " 'viola': 1,\n",
       " 'leila': 1,\n",
       " 'saks': 1,\n",
       " 'aurora': 1,\n",
       " 'landergren': 1,\n",
       " 'adelia': 1,\n",
       " 'elkins': 1,\n",
       " 'widener': 1,\n",
       " 'betros': 1,\n",
       " 'gideon': 1,\n",
       " 'bidois': 1,\n",
       " 'tikkanen': 1,\n",
       " 'towner': 1,\n",
       " 'aline': 1,\n",
       " 'plotcharsky': 1,\n",
       " 'vasil': 1,\n",
       " 'buss': 1,\n",
       " 'sadlier': 1,\n",
       " 'matthew': 1,\n",
       " 'lehmann': 1,\n",
       " 'jansson': 1,\n",
       " 'birger': 1,\n",
       " 'elina': 1,\n",
       " 'mckane': 1,\n",
       " 'pain': 1,\n",
       " 'trout': 1,\n",
       " 'niskanen': 1,\n",
       " 'adams': 1,\n",
       " 'aina': 1,\n",
       " 'mari': 1,\n",
       " 'gale': 1,\n",
       " 'shadrach': 1,\n",
       " 'widegren': 1,\n",
       " 'rowe': 1,\n",
       " 'monsen': 1,\n",
       " 'birkeland': 1,\n",
       " 'sdycoff': 1,\n",
       " 'todor': 1,\n",
       " 'cunningham': 1,\n",
       " 'sundman': 1,\n",
       " 'meek': 1,\n",
       " 'rowley': 1,\n",
       " 'vivian': 1,\n",
       " 'drew': 1,\n",
       " 'lulu': 1,\n",
       " 'silven': 1,\n",
       " 'karoliina': 1,\n",
       " 'lyyli': 1,\n",
       " 'matthews': 1,\n",
       " 'catharina': 1,\n",
       " 'gheorgheff': 1,\n",
       " 'stanio': 1,\n",
       " 'charters': 1,\n",
       " 'zimmerman': 1,\n",
       " 'phillippe': 1,\n",
       " 'wiseman': 1,\n",
       " 'v': 1,\n",
       " 'winfield': 1,\n",
       " 'phillips': 1,\n",
       " 'pickard': 1,\n",
       " 'berk': 1,\n",
       " 'trembisky': 1,\n",
       " 'hakan': 1,\n",
       " 'bjornstrom-steffansson': 1,\n",
       " 'adelaide': 1,\n",
       " 'slow': 1,\n",
       " 'louch': 1,\n",
       " 'kallio': 1,\n",
       " 'nikolai': 1,\n",
       " 'erland': 1,\n",
       " 'doolina': 1,\n",
       " 'kvillner': 1,\n",
       " 'johannesson': 1,\n",
       " 'esther': 1,\n",
       " 'bloomfield': 1,\n",
       " 'hampe': 1,\n",
       " 'leon': 1,\n",
       " 'petterson': 1,\n",
       " 'ms': 1,\n",
       " 'encarnacion': 1,\n",
       " 'reynaldo': 1,\n",
       " 'bernt': 1,\n",
       " 'johannesen-bratthammer': 1,\n",
       " 'dodge': 1,\n",
       " 'violet': 1,\n",
       " 'kimber': 1,\n",
       " 'seward': 1,\n",
       " 'peuchen': 1,\n",
       " 'ingvald': 1,\n",
       " 'olai': 1,\n",
       " 'foreman': 1,\n",
       " 'laventall': 1,\n",
       " 'peduzzi': 1,\n",
       " 'jalsevac': 1,\n",
       " 'millet': 1,\n",
       " 'kenyon': 1,\n",
       " 'toomey': 1,\n",
       " \"o'connor\": 1,\n",
       " 'gee': 1,\n",
       " 'milling': 1,\n",
       " 'simon': 1,\n",
       " 'maisner': 1,\n",
       " 'estanslas': 1,\n",
       " 'goncalves': 1,\n",
       " 'montgomery': 1,\n",
       " 'smart': 1,\n",
       " 'scanlan': 1,\n",
       " 'keefe': 1,\n",
       " 'worth': 1,\n",
       " 'jerwan': 1,\n",
       " ...}"
      ]
     },
     "execution_count": 12,
     "metadata": {},
     "output_type": "execute_result"
    }
   ],
   "source": [
    "# Counting all the words in the column\n",
    "\n",
    "def preprocess_text(df, column):\n",
    "    \"\"\"\n",
    "    This function preprocesses the data given the column on which\n",
    "    preprocessing is to be applied\n",
    "    \"\"\"\n",
    "    # Define the tokenization function\n",
    "    def tokenize(column):\n",
    "        # Use the regular expression pattern for tokenization\n",
    "        pattern = r\"[a-zA-Z]+(?:[-'][a-zA-Z]+)?\"\n",
    "        tokens = re.findall(pattern, column.lower())  # Convert to lowercase\n",
    "        return tokens\n",
    "\n",
    "    # Apply the tokenization function to the input column\n",
    "    df['tokens'] = df[column].apply(tokenize)\n",
    "\n",
    "    # Calculate document frequency (DF) for each word in the document collection\n",
    "    document_frequency = Counter()\n",
    "    for tokens in df['tokens']:\n",
    "        document_frequency.update(set(tokens))  # Using set to count each word only once per document\n",
    "\n",
    "    # Convert the document frequency counter to a dictionary\n",
    "    document_frequency_dict = dict(document_frequency)\n",
    "\n",
    "    # dropping the column\n",
    "    df.drop('tokens', axis=1, inplace=True)\n",
    "    return document_frequency_dict\n",
    "\n",
    "# Unpack the tuple returned by preprocess_text\n",
    "document_frequency_dict = preprocess_text(train, \"Name\")\n",
    "document_frequency_dict = dict(sorted(document_frequency_dict.items(), key=lambda item: item[1], reverse=True))\n",
    "document_frequency_dict\n"
   ]
  },
  {
   "cell_type": "code",
   "execution_count": 13,
   "id": "a7749613",
   "metadata": {
    "execution": {
     "iopub.execute_input": "2023-12-03T15:14:01.299156Z",
     "iopub.status.busy": "2023-12-03T15:14:01.298682Z",
     "iopub.status.idle": "2023-12-03T15:14:01.308280Z",
     "shell.execute_reply": "2023-12-03T15:14:01.306773Z"
    },
    "papermill": {
     "duration": 0.035915,
     "end_time": "2023-12-03T15:14:01.311203",
     "exception": false,
     "start_time": "2023-12-03T15:14:01.275288",
     "status": "completed"
    },
    "tags": []
   },
   "outputs": [
    {
     "data": {
      "text/plain": [
       "129"
      ]
     },
     "execution_count": 13,
     "metadata": {},
     "output_type": "execute_result"
    }
   ],
   "source": [
    "# Mr,Miss,Mrs because we already have a gender column\n",
    "document_frequency_dict.pop('mr')\n",
    "document_frequency_dict.pop('miss')\n",
    "document_frequency_dict.pop('mrs')"
   ]
  },
  {
   "cell_type": "code",
   "execution_count": 14,
   "id": "f1e5ac62",
   "metadata": {
    "execution": {
     "iopub.execute_input": "2023-12-03T15:14:01.359383Z",
     "iopub.status.busy": "2023-12-03T15:14:01.358858Z",
     "iopub.status.idle": "2023-12-03T15:14:01.367615Z",
     "shell.execute_reply": "2023-12-03T15:14:01.366224Z"
    },
    "papermill": {
     "duration": 0.03659,
     "end_time": "2023-12-03T15:14:01.370332",
     "exception": false,
     "start_time": "2023-12-03T15:14:01.333742",
     "status": "completed"
    },
    "tags": []
   },
   "outputs": [
    {
     "data": {
      "text/plain": [
       "1521"
      ]
     },
     "execution_count": 14,
     "metadata": {},
     "output_type": "execute_result"
    }
   ],
   "source": [
    "# how long is the dictionary now\n",
    "len(document_frequency_dict)"
   ]
  },
  {
   "cell_type": "markdown",
   "id": "7016ec00",
   "metadata": {
    "papermill": {
     "duration": 0.021603,
     "end_time": "2023-12-03T15:14:01.414309",
     "exception": false,
     "start_time": "2023-12-03T15:14:01.392706",
     "status": "completed"
    },
    "tags": []
   },
   "source": [
    "The dictionary, encompassing all words from the 'Name' column, contains 1,521 unique entries, surpassing the total of 891 rows. With 'William' being the most frequent name at 63 occurrences, the data exhibits a varied distribution of passenger names. Consequently, this disparity suggests that the 'Name' column alone may not provide reliable insights into its correlation with the 'Survival' column."
   ]
  },
  {
   "cell_type": "code",
   "execution_count": 15,
   "id": "03ad0285",
   "metadata": {
    "execution": {
     "iopub.execute_input": "2023-12-03T15:14:01.461145Z",
     "iopub.status.busy": "2023-12-03T15:14:01.460662Z",
     "iopub.status.idle": "2023-12-03T15:14:01.478245Z",
     "shell.execute_reply": "2023-12-03T15:14:01.476665Z"
    },
    "papermill": {
     "duration": 0.044654,
     "end_time": "2023-12-03T15:14:01.481528",
     "exception": false,
     "start_time": "2023-12-03T15:14:01.436874",
     "status": "completed"
    },
    "tags": []
   },
   "outputs": [
    {
     "data": {
      "text/plain": [
       "count    714.000000\n",
       "mean      29.699118\n",
       "std       14.526497\n",
       "min        0.420000\n",
       "25%       20.125000\n",
       "50%       28.000000\n",
       "75%       38.000000\n",
       "max       80.000000\n",
       "Name: Age, dtype: float64"
      ]
     },
     "execution_count": 15,
     "metadata": {},
     "output_type": "execute_result"
    }
   ],
   "source": [
    "# descriptive statistics for age\n",
    "train['Age'].describe()"
   ]
  },
  {
   "cell_type": "code",
   "execution_count": 16,
   "id": "0873360b",
   "metadata": {
    "execution": {
     "iopub.execute_input": "2023-12-03T15:14:01.529200Z",
     "iopub.status.busy": "2023-12-03T15:14:01.528708Z",
     "iopub.status.idle": "2023-12-03T15:14:01.546175Z",
     "shell.execute_reply": "2023-12-03T15:14:01.545102Z"
    },
    "papermill": {
     "duration": 0.045293,
     "end_time": "2023-12-03T15:14:01.549137",
     "exception": false,
     "start_time": "2023-12-03T15:14:01.503844",
     "status": "completed"
    },
    "tags": []
   },
   "outputs": [],
   "source": [
    "# Making eight groups from 0-80 of age\n",
    "train['Age'] = pd.cut(train['Age'], bins=8)"
   ]
  },
  {
   "cell_type": "code",
   "execution_count": 17,
   "id": "7ca2445e",
   "metadata": {
    "execution": {
     "iopub.execute_input": "2023-12-03T15:14:01.597651Z",
     "iopub.status.busy": "2023-12-03T15:14:01.596011Z",
     "iopub.status.idle": "2023-12-03T15:14:04.169293Z",
     "shell.execute_reply": "2023-12-03T15:14:04.167663Z"
    },
    "papermill": {
     "duration": 2.600485,
     "end_time": "2023-12-03T15:14:04.172673",
     "exception": false,
     "start_time": "2023-12-03T15:14:01.572188",
     "status": "completed"
    },
    "tags": []
   },
   "outputs": [
    {
     "data": {
      "image/png": "[encoded data removed]",
      "text/plain": [
       "<Figure size 1800x1200 with 6 Axes>"
      ]
     },
     "metadata": {},
     "output_type": "display_data"
    }
   ],
   "source": [
    "import matplotlib.pyplot as plt\n",
    "import pandas as pd\n",
    "\n",
    "# Assuming 'train' is your DataFrame and it's already loaded\n",
    "\n",
    "survived = train[train['Survived'] == 1]\n",
    "not_survived = train[train['Survived'] == 0]\n",
    "\n",
    "# Set up the matplotlib figure\n",
    "fig, axes = plt.subplots(nrows=2, ncols=3, figsize=(18, 12))  # Adjust as needed\n",
    "axes = axes.flatten()  # Flatten the axes array for easy indexing\n",
    "\n",
    "# List of columns to plot\n",
    "columns = ['Pclass', 'Sex', 'SibSp', 'Parch', 'Embarked', 'Age']\n",
    "\n",
    "# Loop through the columns and create each subplot\n",
    "for i, col in enumerate(columns):\n",
    "    if col != 'Age':\n",
    "        # Get the counts for other columns\n",
    "        survived_counts = survived[col].value_counts().sort_index()\n",
    "        not_survived_counts = not_survived[col].value_counts().sort_index()\n",
    "\n",
    "        # Plot for other columns\n",
    "        survived_counts.plot(kind='bar', alpha=0.5, color='blue', label='Survived', ax=axes[i], position=0, width=0.4)\n",
    "        not_survived_counts.plot(kind='bar', alpha=0.5, color='red', label='Not Survived', ax=axes[i], position=1, width=0.4)\n",
    "\n",
    "        # Set titles and labels\n",
    "        axes[i].set_title(f'{col} vs Survived')\n",
    "        axes[i].set_xlabel(col)\n",
    "        axes[i].set_ylabel('Number of passengers')\n",
    "        axes[i].legend()\n",
    "\n",
    "        # Annotate bars\n",
    "        for p in axes[i].patches:\n",
    "            axes[i].annotate(str(p.get_height()), (p.get_x() + p.get_width() / 2., p.get_height()), \n",
    "                             ha='center', va='center', xytext=(0, 10), textcoords='offset points')\n",
    "    else:\n",
    "        # Special handling for 'Age' column\n",
    "        age_survived_count = train[train['Survived'] == 1]['Age'].value_counts().sort_index()\n",
    "        age_not_survived_count = train[train['Survived'] == 0]['Age'].value_counts().sort_index()\n",
    "\n",
    "        # Plot for 'Age'\n",
    "        age_survived_count.plot(kind='bar', color='blue', position=0, width=0.4, label='Survived', ax=axes[i])\n",
    "        age_not_survived_count.plot(kind='bar', color='red', position=1, width=0.4, label='Not Survived', ax=axes[i])\n",
    "\n",
    "        # Set titles and labels for 'Age'\n",
    "        axes[i].set_title('Age vs Survived')\n",
    "        axes[i].set_xlabel('Age Group')\n",
    "        axes[i].set_ylabel('Count')\n",
    "        axes[i].legend()\n",
    "\n",
    "        # Annotate bars for 'Age'\n",
    "        for p in axes[i].patches:\n",
    "            axes[i].annotate(str(p.get_height()), (p.get_x() + p.get_width() / 2., p.get_height()), \n",
    "                             ha='center', va='center', xytext=(0, 10), textcoords='offset points')\n",
    "\n",
    "# Adjust layout\n",
    "plt.tight_layout()\n",
    "\n",
    "# Hide the last (empty) subplot if the number of plots is less than the grid size\n",
    "if len(columns) < len(axes):\n",
    "    for i in range(len(columns), len(axes)):\n",
    "        fig.delaxes(axes[i])\n",
    "\n",
    "plt.show()\n"
   ]
  },
  {
   "cell_type": "markdown",
   "id": "23e08c91",
   "metadata": {
    "papermill": {
     "duration": 0.024874,
     "end_time": "2023-12-03T15:14:04.225114",
     "exception": false,
     "start_time": "2023-12-03T15:14:04.200240",
     "status": "completed"
    },
    "tags": []
   },
   "source": [
    "- First class survival ratio is more.\n",
    "- Female ratio survival is more.\n",
    "- SibSp & Parch have a lot of variation and outliers. We can perhaps combine these two columns as total relatives.\n",
    "- Pclass, Sex and Embarked ratios tells us a lot about who is more likely to survive.\n",
    "- Age follows a normal distribution"
   ]
  },
  {
   "cell_type": "code",
   "execution_count": 18,
   "id": "3689370d",
   "metadata": {
    "execution": {
     "iopub.execute_input": "2023-12-03T15:14:04.282925Z",
     "iopub.status.busy": "2023-12-03T15:14:04.281707Z",
     "iopub.status.idle": "2023-12-03T15:14:04.290213Z",
     "shell.execute_reply": "2023-12-03T15:14:04.288609Z"
    },
    "papermill": {
     "duration": 0.042426,
     "end_time": "2023-12-03T15:14:04.293818",
     "exception": false,
     "start_time": "2023-12-03T15:14:04.251392",
     "status": "completed"
    },
    "tags": []
   },
   "outputs": [],
   "source": [
    "# extra feature, lets see if the patterns are clearer now than SibSp & Parch\n",
    "train['relatives'] = train['SibSp'] + train['Parch']"
   ]
  },
  {
   "cell_type": "code",
   "execution_count": 19,
   "id": "d3fd8310",
   "metadata": {
    "execution": {
     "iopub.execute_input": "2023-12-03T15:14:04.348538Z",
     "iopub.status.busy": "2023-12-03T15:14:04.348124Z",
     "iopub.status.idle": "2023-12-03T15:14:04.358495Z",
     "shell.execute_reply": "2023-12-03T15:14:04.357133Z"
    },
    "papermill": {
     "duration": 0.040509,
     "end_time": "2023-12-03T15:14:04.361427",
     "exception": false,
     "start_time": "2023-12-03T15:14:04.320918",
     "status": "completed"
    },
    "tags": []
   },
   "outputs": [
    {
     "data": {
      "text/plain": [
       "relatives\n",
       "0     537\n",
       "1     161\n",
       "2     102\n",
       "3      29\n",
       "5      22\n",
       "4      15\n",
       "6      12\n",
       "10      7\n",
       "7       6\n",
       "Name: count, dtype: int64"
      ]
     },
     "execution_count": 19,
     "metadata": {},
     "output_type": "execute_result"
    }
   ],
   "source": [
    "train['relatives'].value_counts()"
   ]
  },
  {
   "cell_type": "code",
   "execution_count": 20,
   "id": "21ec6550",
   "metadata": {
    "execution": {
     "iopub.execute_input": "2023-12-03T15:14:04.414573Z",
     "iopub.status.busy": "2023-12-03T15:14:04.414073Z",
     "iopub.status.idle": "2023-12-03T15:14:04.875604Z",
     "shell.execute_reply": "2023-12-03T15:14:04.874271Z"
    },
    "papermill": {
     "duration": 0.492703,
     "end_time": "2023-12-03T15:14:04.879007",
     "exception": false,
     "start_time": "2023-12-03T15:14:04.386304",
     "status": "completed"
    },
    "tags": []
   },
   "outputs": [
    {
     "data": {
      "image/png": "[encoded data removed]",
      "text/plain": [
       "<Figure size 640x480 with 1 Axes>"
      ]
     },
     "metadata": {},
     "output_type": "display_data"
    }
   ],
   "source": [
    "# Group by 'Cabin' and calculate the sum of 'Survived' for each group\n",
    "survival_data = train.groupby('relatives')['Survived'].value_counts().unstack()\n",
    "survival_data = survival_data.fillna(0)  # Fill NaN with 0\n",
    "\n",
    "# Plotting\n",
    "survival_data.plot(kind='bar')\n",
    "plt.xlabel('number of relatives')\n",
    "plt.ylabel('Number of Passengers')\n",
    "plt.title('Survival and Non-Survival Counts by # of relatives')\n",
    "\n",
    "# Adding counts on top of each bar\n",
    "for i, (index, row) in enumerate(survival_data.iterrows()):\n",
    "    plt.text(i - 0.15, row[0] + 1, int(row[0]), ha='center')\n",
    "    plt.text(i + 0.15, row[1] + 1, int(row[1]), ha='center')\n",
    "\n",
    "plt.show()"
   ]
  },
  {
   "cell_type": "code",
   "execution_count": 21,
   "id": "6932d9b0",
   "metadata": {
    "execution": {
     "iopub.execute_input": "2023-12-03T15:14:04.937162Z",
     "iopub.status.busy": "2023-12-03T15:14:04.935645Z",
     "iopub.status.idle": "2023-12-03T15:14:04.948419Z",
     "shell.execute_reply": "2023-12-03T15:14:04.947093Z"
    },
    "papermill": {
     "duration": 0.044406,
     "end_time": "2023-12-03T15:14:04.951289",
     "exception": false,
     "start_time": "2023-12-03T15:14:04.906883",
     "status": "completed"
    },
    "tags": []
   },
   "outputs": [
    {
     "data": {
      "text/plain": [
       "Ticket\n",
       "347082      7\n",
       "CA. 2343    7\n",
       "1601        7\n",
       "3101295     6\n",
       "CA 2144     6\n",
       "           ..\n",
       "9234        1\n",
       "19988       1\n",
       "2693        1\n",
       "PC 17612    1\n",
       "370376      1\n",
       "Name: count, Length: 681, dtype: int64"
      ]
     },
     "execution_count": 21,
     "metadata": {},
     "output_type": "execute_result"
    }
   ],
   "source": [
    "# are there any repetitive patterns?\n",
    "train['Ticket'].value_counts()"
   ]
  },
  {
   "cell_type": "code",
   "execution_count": 22,
   "id": "dfe4ed8e",
   "metadata": {
    "execution": {
     "iopub.execute_input": "2023-12-03T15:14:05.005067Z",
     "iopub.status.busy": "2023-12-03T15:14:05.003465Z",
     "iopub.status.idle": "2023-12-03T15:14:05.020586Z",
     "shell.execute_reply": "2023-12-03T15:14:05.019315Z"
    },
    "papermill": {
     "duration": 0.047086,
     "end_time": "2023-12-03T15:14:05.023521",
     "exception": false,
     "start_time": "2023-12-03T15:14:04.976435",
     "status": "completed"
    },
    "tags": []
   },
   "outputs": [
    {
     "data": {
      "text/plain": [
       "Ticket\n",
       "             661\n",
       "PC            60\n",
       "CA            41\n",
       "A             28\n",
       "STONO         18\n",
       "SOTONOQ       15\n",
       "WC            10\n",
       "SCPARIS        7\n",
       "SOC            6\n",
       "C              5\n",
       "FCC            5\n",
       "LINE           4\n",
       "SCParis        4\n",
       "WEP            3\n",
       "PP             3\n",
       "SOPP           3\n",
       "SOTONO         2\n",
       "SCAH           2\n",
       "SWPP           2\n",
       "PPP            2\n",
       "FC             1\n",
       "SCAHBasle      1\n",
       "AS             1\n",
       "SOP            1\n",
       "SC             1\n",
       "SCOW           1\n",
       "Fa             1\n",
       "SP             1\n",
       "SCA            1\n",
       "CASOTON        1\n",
       "Name: count, dtype: int64"
      ]
     },
     "execution_count": 22,
     "metadata": {},
     "output_type": "execute_result"
    }
   ],
   "source": [
    "# extraching alphabets from tickets to see if there are any patterns?\n",
    "train['Ticket'] = train['Ticket'].str.replace('[^A-Za-z]', '', regex=True)\n",
    "train['Ticket'].value_counts()"
   ]
  },
  {
   "cell_type": "markdown",
   "id": "e75c2dd2",
   "metadata": {
    "papermill": {
     "duration": 0.025694,
     "end_time": "2023-12-03T15:14:05.075475",
     "exception": false,
     "start_time": "2023-12-03T15:14:05.049781",
     "status": "completed"
    },
    "tags": []
   },
   "source": [
    "- Most of the tickets are random numbers.\n",
    "- Confirm by this line while commenting the alphabets extraction one: train['Ticket'] = train['Ticket'].str.replace('[^\\d]', '', regex=True)\n",
    "- We can drop ticket attribute."
   ]
  },
  {
   "cell_type": "code",
   "execution_count": 23,
   "id": "885023f9",
   "metadata": {
    "execution": {
     "iopub.execute_input": "2023-12-03T15:14:05.128650Z",
     "iopub.status.busy": "2023-12-03T15:14:05.127911Z",
     "iopub.status.idle": "2023-12-03T15:14:05.138884Z",
     "shell.execute_reply": "2023-12-03T15:14:05.137905Z"
    },
    "papermill": {
     "duration": 0.040618,
     "end_time": "2023-12-03T15:14:05.141472",
     "exception": false,
     "start_time": "2023-12-03T15:14:05.100854",
     "status": "completed"
    },
    "tags": []
   },
   "outputs": [
    {
     "data": {
      "text/plain": [
       "count    891.000000\n",
       "mean      32.204208\n",
       "std       49.693429\n",
       "min        0.000000\n",
       "25%        7.910400\n",
       "50%       14.454200\n",
       "75%       31.000000\n",
       "max      512.329200\n",
       "Name: Fare, dtype: float64"
      ]
     },
     "execution_count": 23,
     "metadata": {},
     "output_type": "execute_result"
    }
   ],
   "source": [
    "# descriptive stats for fare\n",
    "train['Fare'].describe()"
   ]
  },
  {
   "cell_type": "code",
   "execution_count": 24,
   "id": "900cb734",
   "metadata": {
    "execution": {
     "iopub.execute_input": "2023-12-03T15:14:05.194748Z",
     "iopub.status.busy": "2023-12-03T15:14:05.194011Z",
     "iopub.status.idle": "2023-12-03T15:14:05.522581Z",
     "shell.execute_reply": "2023-12-03T15:14:05.520867Z"
    },
    "papermill": {
     "duration": 0.359451,
     "end_time": "2023-12-03T15:14:05.526360",
     "exception": false,
     "start_time": "2023-12-03T15:14:05.166909",
     "status": "completed"
    },
    "tags": []
   },
   "outputs": [
    {
     "data": {
      "image/png": "[encoded data removed]",
      "text/plain": [
       "<Figure size 640x480 with 1 Axes>"
      ]
     },
     "metadata": {},
     "output_type": "display_data"
    }
   ],
   "source": [
    "# Does Fare effect survival? we expect distribution of fare in survival is higher than those who didn't survived\n",
    "sns.stripplot(x='Survived', y='Fare', data=train, jitter=True)\n",
    "plt.title('Continuous Variable vs Survival')\n",
    "plt.show()"
   ]
  },
  {
   "cell_type": "markdown",
   "id": "f476da28",
   "metadata": {
    "papermill": {
     "duration": 0.026087,
     "end_time": "2023-12-03T15:14:05.579666",
     "exception": false,
     "start_time": "2023-12-03T15:14:05.553579",
     "status": "completed"
    },
    "tags": []
   },
   "source": [
    "- Distributions is almost the same with exception of some outliers."
   ]
  },
  {
   "cell_type": "code",
   "execution_count": 25,
   "id": "d965a76e",
   "metadata": {
    "execution": {
     "iopub.execute_input": "2023-12-03T15:14:05.633985Z",
     "iopub.status.busy": "2023-12-03T15:14:05.633450Z",
     "iopub.status.idle": "2023-12-03T15:14:05.647855Z",
     "shell.execute_reply": "2023-12-03T15:14:05.646612Z"
    },
    "papermill": {
     "duration": 0.046049,
     "end_time": "2023-12-03T15:14:05.651297",
     "exception": false,
     "start_time": "2023-12-03T15:14:05.605248",
     "status": "completed"
    },
    "tags": []
   },
   "outputs": [
    {
     "name": "stdout",
     "output_type": "stream",
     "text": [
      "Number of outliers: 116\n",
      "ratio of outliers to total data: 0.13019079685746351\n"
     ]
    }
   ],
   "source": [
    "# how many outliers are there?\n",
    "# Calculate Q1, Q3, and IQR\n",
    "Q1 = train['Fare'].quantile(0.25)\n",
    "Q3 = train['Fare'].quantile(0.75)\n",
    "IQR = Q3 - Q1\n",
    "\n",
    "# Define bounds for outliers\n",
    "lower_bound = Q1 - 1.5 * IQR\n",
    "upper_bound = Q3 + 1.5 * IQR\n",
    "\n",
    "# Find outliers\n",
    "outliers = train[(train['Fare'] < lower_bound) | (train['Fare'] > upper_bound)]\n",
    "print(\"Number of outliers:\", len(outliers))\n",
    "print(\"ratio of outliers to total data:\", len(outliers)/len(train))"
   ]
  },
  {
   "cell_type": "code",
   "execution_count": 26,
   "id": "5be05dfc",
   "metadata": {
    "execution": {
     "iopub.execute_input": "2023-12-03T15:14:05.710059Z",
     "iopub.status.busy": "2023-12-03T15:14:05.709281Z",
     "iopub.status.idle": "2023-12-03T15:14:05.754404Z",
     "shell.execute_reply": "2023-12-03T15:14:05.753516Z"
    },
    "papermill": {
     "duration": 0.076267,
     "end_time": "2023-12-03T15:14:05.756750",
     "exception": false,
     "start_time": "2023-12-03T15:14:05.680483",
     "status": "completed"
    },
    "tags": []
   },
   "outputs": [
    {
     "data": {
      "text/plain": [
       "{'F': 18.69679230769231,\n",
       " 'G': 11.039285714285715,\n",
       " 'A': 39.623886666666664,\n",
       " 'B': 89.95694722222223,\n",
       " 'T': 35.5,\n",
       " 'D': 57.053521875,\n",
       " 'C': 81.85792352941176,\n",
       " 'E': 45.3094696969697}"
      ]
     },
     "execution_count": 26,
     "metadata": {},
     "output_type": "execute_result"
    }
   ],
   "source": [
    "# Average fares for cabin alphabets\n",
    "\n",
    "# Extract all alphabetic characters\n",
    "alphabets = train['Cabin'].str.extractall('([A-Za-z])')[0]\n",
    "\n",
    "# Flatten to a Series\n",
    "alphabets = alphabets.dropna().unique()\n",
    "\n",
    "# Convert to a set to find unique values\n",
    "unique_alphabets = set(alphabets)\n",
    "\n",
    "# Modified function to take an alphabet as an argument\n",
    "def contains_pattern_once(text, alphabet):\n",
    "    if pd.isna(text):\n",
    "        return False\n",
    "    # Construct the regular expression pattern dynamically\n",
    "    pattern = r'\\b' + re.escape(alphabet) + r'[A-Za-z0-9]*\\b'\n",
    "    # Find all occurrences of the pattern\n",
    "    matches = re.findall(pattern, text)\n",
    "    # Check if the pattern occurs exactly once\n",
    "    return len(matches) == 1\n",
    "\n",
    "average_fares = {}\n",
    "\n",
    "# Loop through each unique alphabet and calculate the mean fare\n",
    "for i in unique_alphabets:\n",
    "    mean_fare = train[train['Cabin'].apply(lambda x: contains_pattern_once(x, i))]['Fare'].mean()\n",
    "    average_fares[i] = mean_fare\n",
    "\n",
    "average_fares"
   ]
  },
  {
   "cell_type": "code",
   "execution_count": 27,
   "id": "ea5f6c27",
   "metadata": {
    "execution": {
     "iopub.execute_input": "2023-12-03T15:14:05.812791Z",
     "iopub.status.busy": "2023-12-03T15:14:05.811436Z",
     "iopub.status.idle": "2023-12-03T15:14:05.821233Z",
     "shell.execute_reply": "2023-12-03T15:14:05.820366Z"
    },
    "papermill": {
     "duration": 0.040553,
     "end_time": "2023-12-03T15:14:05.823685",
     "exception": false,
     "start_time": "2023-12-03T15:14:05.783132",
     "status": "completed"
    },
    "tags": []
   },
   "outputs": [
    {
     "data": {
      "text/plain": [
       "Cabin\n",
       "B96 B98        4\n",
       "G6             4\n",
       "C23 C25 C27    4\n",
       "C22 C26        3\n",
       "F33            3\n",
       "              ..\n",
       "E34            1\n",
       "C7             1\n",
       "C54            1\n",
       "E36            1\n",
       "C148           1\n",
       "Name: count, Length: 147, dtype: int64"
      ]
     },
     "execution_count": 27,
     "metadata": {},
     "output_type": "execute_result"
    }
   ],
   "source": [
    "# many missing values\n",
    "train['Cabin'].value_counts()"
   ]
  },
  {
   "cell_type": "code",
   "execution_count": 28,
   "id": "8c5dbb3c",
   "metadata": {
    "execution": {
     "iopub.execute_input": "2023-12-03T15:14:05.881687Z",
     "iopub.status.busy": "2023-12-03T15:14:05.881227Z",
     "iopub.status.idle": "2023-12-03T15:14:05.888363Z",
     "shell.execute_reply": "2023-12-03T15:14:05.886952Z"
    },
    "papermill": {
     "duration": 0.038699,
     "end_time": "2023-12-03T15:14:05.891087",
     "exception": false,
     "start_time": "2023-12-03T15:14:05.852388",
     "status": "completed"
    },
    "tags": []
   },
   "outputs": [],
   "source": [
    "# Filter the DataFrame for rows where 'Cabin' is NaN\n",
    "missing_cabin_indices = train[train['Cabin'].isna()].index"
   ]
  },
  {
   "cell_type": "code",
   "execution_count": 29,
   "id": "82860f13",
   "metadata": {
    "execution": {
     "iopub.execute_input": "2023-12-03T15:14:05.952525Z",
     "iopub.status.busy": "2023-12-03T15:14:05.951791Z",
     "iopub.status.idle": "2023-12-03T15:14:07.451107Z",
     "shell.execute_reply": "2023-12-03T15:14:07.449992Z"
    },
    "papermill": {
     "duration": 1.533889,
     "end_time": "2023-12-03T15:14:07.455251",
     "exception": false,
     "start_time": "2023-12-03T15:14:05.921362",
     "status": "completed"
    },
    "tags": []
   },
   "outputs": [],
   "source": [
    "# Sort the DataFrame by 'Fare'\n",
    "train_sorted = train.sort_values(by='Fare')\n",
    "\n",
    "# Function to find the nearest non-missing Cabin with the same Embarked and Pclass\n",
    "def find_nearest_cabin(fare, cabin, embarked, pclass, sorted_df):\n",
    "    if pd.notna(cabin):\n",
    "        return cabin\n",
    "    else:\n",
    "        # Filter the DataFrame for the same Embarked and Pclass\n",
    "        same_embarked_pclass = sorted_df[(sorted_df['Embarked'] == embarked) & (sorted_df['Pclass'] == pclass)]\n",
    "\n",
    "        # If there are no rows with the same Embarked and Pclass, return the original cabin value\n",
    "        if same_embarked_pclass.empty:\n",
    "            return cabin\n",
    "\n",
    "        # Compute the absolute difference with all fares in the filtered DataFrame\n",
    "        fare_diff = same_embarked_pclass['Fare'].apply(lambda x: abs(x - fare))\n",
    "        # Find the index of the minimum difference where Cabin is not NaN\n",
    "        nearest_index = fare_diff[same_embarked_pclass['Cabin'].notna()].idxmin()\n",
    "        # Return the Cabin at the nearest index\n",
    "        return same_embarked_pclass.loc[nearest_index, 'Cabin']\n",
    "\n",
    "# Apply the function to each row\n",
    "train['Cabin'] = train.apply(lambda row: find_nearest_cabin(row['Fare'], row['Cabin'], row['Embarked'], row['Pclass'], train_sorted), axis=1)"
   ]
  },
  {
   "cell_type": "code",
   "execution_count": 30,
   "id": "bcc89009",
   "metadata": {
    "execution": {
     "iopub.execute_input": "2023-12-03T15:14:07.511953Z",
     "iopub.status.busy": "2023-12-03T15:14:07.511037Z",
     "iopub.status.idle": "2023-12-03T15:14:07.522420Z",
     "shell.execute_reply": "2023-12-03T15:14:07.521242Z"
    },
    "papermill": {
     "duration": 0.04278,
     "end_time": "2023-12-03T15:14:07.525656",
     "exception": false,
     "start_time": "2023-12-03T15:14:07.482876",
     "status": "completed"
    },
    "tags": []
   },
   "outputs": [],
   "source": [
    "# Regular expression pattern\n",
    "pattern = r'\\b[A-Za-z0-9]+\\b'\n",
    "\n",
    "# Function to count regex matches or return NaN\n",
    "def count_matches_or_nan(text):\n",
    "    if pd.isna(text):\n",
    "        return pd.NA\n",
    "    else:\n",
    "        return len(re.findall(pattern, text))\n",
    "\n",
    "# Count the number of regex matches in each row of the Cabin column\n",
    "x = train['Cabin'].apply(count_matches_or_nan)"
   ]
  },
  {
   "cell_type": "code",
   "execution_count": 31,
   "id": "aea331ff",
   "metadata": {
    "execution": {
     "iopub.execute_input": "2023-12-03T15:14:07.581883Z",
     "iopub.status.busy": "2023-12-03T15:14:07.581347Z",
     "iopub.status.idle": "2023-12-03T15:14:07.590321Z",
     "shell.execute_reply": "2023-12-03T15:14:07.589187Z"
    },
    "papermill": {
     "duration": 0.040572,
     "end_time": "2023-12-03T15:14:07.593222",
     "exception": false,
     "start_time": "2023-12-03T15:14:07.552650",
     "status": "completed"
    },
    "tags": []
   },
   "outputs": [
    {
     "data": {
      "text/plain": [
       "Cabin\n",
       "1    724\n",
       "2    159\n",
       "3      6\n",
       "4      2\n",
       "Name: count, dtype: int64"
      ]
     },
     "execution_count": 31,
     "metadata": {},
     "output_type": "execute_result"
    }
   ],
   "source": [
    "x.value_counts() "
   ]
  },
  {
   "cell_type": "code",
   "execution_count": 32,
   "id": "6f717493",
   "metadata": {
    "execution": {
     "iopub.execute_input": "2023-12-03T15:14:07.657739Z",
     "iopub.status.busy": "2023-12-03T15:14:07.657161Z",
     "iopub.status.idle": "2023-12-03T15:14:08.209191Z",
     "shell.execute_reply": "2023-12-03T15:14:08.207116Z"
    },
    "papermill": {
     "duration": 0.588664,
     "end_time": "2023-12-03T15:14:08.212457",
     "exception": false,
     "start_time": "2023-12-03T15:14:07.623793",
     "status": "completed"
    },
    "tags": []
   },
   "outputs": [
    {
     "data": {
      "image/png": "[encoded data removed]",
      "text/plain": [
       "<Figure size 640x480 with 1 Axes>"
      ]
     },
     "metadata": {},
     "output_type": "display_data"
    }
   ],
   "source": [
    "# Create a crosstab of number_of_cabins and Survived\n",
    "cabin_survived_ct = pd.crosstab(x, train['Survived'])\n",
    "\n",
    "# Plot\n",
    "ax = cabin_survived_ct.plot(kind='bar', stacked=False)\n",
    "\n",
    "plt.title('Survival Counts by Number of Cabins')\n",
    "plt.xlabel('Number of Cabins')\n",
    "plt.ylabel('Count')\n",
    "plt.xticks(rotation=0)  # Rotates X-axis labels for readability\n",
    "plt.legend(title='Survived', labels=['Not Survived', 'Survived'])\n",
    "\n",
    "# Annotate bars\n",
    "for p in ax.patches:\n",
    "    ax.annotate(str(p.get_height()), (p.get_x() + p.get_width() / 2., p.get_height()), \n",
    "                ha='center', va='center', xytext=(0, 10), textcoords='offset points')\n",
    "\n",
    "plt.show()\n"
   ]
  },
  {
   "cell_type": "code",
   "execution_count": 33,
   "id": "9ec5edf4",
   "metadata": {
    "execution": {
     "iopub.execute_input": "2023-12-03T15:14:08.269800Z",
     "iopub.status.busy": "2023-12-03T15:14:08.269334Z",
     "iopub.status.idle": "2023-12-03T15:14:08.281411Z",
     "shell.execute_reply": "2023-12-03T15:14:08.279513Z"
    },
    "papermill": {
     "duration": 0.044391,
     "end_time": "2023-12-03T15:14:08.284233",
     "exception": false,
     "start_time": "2023-12-03T15:14:08.239842",
     "status": "completed"
    },
    "tags": []
   },
   "outputs": [
    {
     "name": "stdout",
     "output_type": "stream",
     "text": [
      "{'F': 345, 'G': 205, 'C': 95, 'E': 275, 'D': 51, 'A': 20, 'B': 76, 'T': 1}\n"
     ]
    }
   ],
   "source": [
    "def count_cabin_types(df, cabin_column):\n",
    "    cabin_counts = {}\n",
    "    for cabin in df[cabin_column]:\n",
    "        if pd.notna(cabin):\n",
    "            for char in cabin:\n",
    "                if char.isalpha():\n",
    "                    if char in cabin_counts:\n",
    "                        cabin_counts[char] += 1\n",
    "                    else:\n",
    "                        cabin_counts[char] = 1\n",
    "    return cabin_counts\n",
    "\n",
    "cabin_counts = count_cabin_types(train, 'Cabin')\n",
    "print(cabin_counts)"
   ]
  },
  {
   "cell_type": "code",
   "execution_count": 34,
   "id": "f9148958",
   "metadata": {
    "execution": {
     "iopub.execute_input": "2023-12-03T15:14:08.341304Z",
     "iopub.status.busy": "2023-12-03T15:14:08.340896Z",
     "iopub.status.idle": "2023-12-03T15:14:08.352896Z",
     "shell.execute_reply": "2023-12-03T15:14:08.351412Z"
    },
    "papermill": {
     "duration": 0.043705,
     "end_time": "2023-12-03T15:14:08.355617",
     "exception": false,
     "start_time": "2023-12-03T15:14:08.311912",
     "status": "completed"
    },
    "tags": []
   },
   "outputs": [
    {
     "data": {
      "text/plain": [
       "Cabin\n",
       "E10      135\n",
       "G6       127\n",
       "F G73     77\n",
       "F38       72\n",
       "F E69     66\n",
       "        ... \n",
       "E63        1\n",
       "E12        1\n",
       "D21        1\n",
       "E38        1\n",
       "C148       1\n",
       "Name: count, Length: 147, dtype: int64"
      ]
     },
     "execution_count": 34,
     "metadata": {},
     "output_type": "execute_result"
    }
   ],
   "source": [
    "train['Cabin'].value_counts()"
   ]
  },
  {
   "cell_type": "code",
   "execution_count": 35,
   "id": "efad2ed9",
   "metadata": {
    "execution": {
     "iopub.execute_input": "2023-12-03T15:14:08.410596Z",
     "iopub.status.busy": "2023-12-03T15:14:08.410164Z",
     "iopub.status.idle": "2023-12-03T15:14:08.419265Z",
     "shell.execute_reply": "2023-12-03T15:14:08.417699Z"
    },
    "papermill": {
     "duration": 0.040035,
     "end_time": "2023-12-03T15:14:08.422107",
     "exception": false,
     "start_time": "2023-12-03T15:14:08.382072",
     "status": "completed"
    },
    "tags": []
   },
   "outputs": [],
   "source": [
    "train['Cabin'] = train['Cabin'].str.replace('[^A-Za-z ]', '', regex=True)"
   ]
  },
  {
   "cell_type": "code",
   "execution_count": 36,
   "id": "19ac1195",
   "metadata": {
    "execution": {
     "iopub.execute_input": "2023-12-03T15:14:08.479923Z",
     "iopub.status.busy": "2023-12-03T15:14:08.479473Z",
     "iopub.status.idle": "2023-12-03T15:14:09.060229Z",
     "shell.execute_reply": "2023-12-03T15:14:09.058807Z"
    },
    "papermill": {
     "duration": 0.613982,
     "end_time": "2023-12-03T15:14:09.063340",
     "exception": false,
     "start_time": "2023-12-03T15:14:08.449358",
     "status": "completed"
    },
    "tags": []
   },
   "outputs": [
    {
     "data": {
      "image/png": "[encoded data removed]",
      "text/plain": [
       "<Figure size 640x480 with 1 Axes>"
      ]
     },
     "metadata": {},
     "output_type": "display_data"
    }
   ],
   "source": [
    "# Assuming 'df' is your DataFrame\n",
    "# Group by 'Cabin' and calculate the sum of 'Survived' for each group\n",
    "survival_data = train.groupby('Cabin')['Survived'].value_counts().unstack()\n",
    "survival_data = survival_data.fillna(0)  # Fill NaN with 0\n",
    "\n",
    "# Plotting\n",
    "survival_data.plot(kind='bar')\n",
    "plt.xlabel('Cabin')\n",
    "plt.ylabel('Number of Passengers')\n",
    "plt.title('Survival and Non-Survival Counts by Cabin Category')\n",
    "\n",
    "# Adding counts on top of each bar\n",
    "for i, (index, row) in enumerate(survival_data.iterrows()):\n",
    "    plt.text(i - 0.15, row[0] + 1, int(row[0]), ha='center')\n",
    "    plt.text(i + 0.15, row[1] + 1, int(row[1]), ha='center')\n",
    "\n",
    "plt.show()"
   ]
  }
 ],
 "metadata": {
  "kaggle": {
   "accelerator": "none",
   "dataSources": [
    {
     "databundleVersionId": 26502,
     "sourceId": 3136,
     "sourceType": "competition"
    }
   ],
   "dockerImageVersionId": 30587,
   "isGpuEnabled": false,
   "isInternetEnabled": true,
   "language": "python",
   "sourceType": "notebook"
  },
  "kernelspec": {
   "display_name": "Python 3 (ipykernel)",
   "language": "python",
   "name": "python3"
  },
  "language_info": {
   "codemirror_mode": {
    "name": "ipython",
    "version": 3
   },
   "file_extension": ".py",
   "mimetype": "text/x-python",
   "name": "python",
   "nbconvert_exporter": "python",
   "pygments_lexer": "ipython3",
   "version": "3.12.7"
  },
  "papermill": {
   "default_parameters": {},
   "duration": 73.39227,
   "end_time": "2023-12-03T15:15:06.530302",
   "environment_variables": {},
   "exception": null,
   "input_path": "__notebook__.ipynb",
   "output_path": "__notebook__.ipynb",
   "parameters": {},
   "start_time": "2023-12-03T15:13:53.138032",
   "version": "2.4.0"
  }
 },
 "nbformat": 4,
 "nbformat_minor": 5
}
